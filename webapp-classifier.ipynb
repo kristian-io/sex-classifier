{
 "cells": [
  {
   "cell_type": "code",
   "execution_count": 7,
   "id": "breathing-advocacy",
   "metadata": {},
   "outputs": [],
   "source": [
    "from fastai.vision.all import *\n",
    "from ipywidgets import *\n",
    "from PIL import Image"
   ]
  },
  {
   "cell_type": "code",
   "execution_count": 17,
   "id": "shared-valve",
   "metadata": {},
   "outputs": [],
   "source": [
    "model_name = 'woman-man_resnet18_5000-extended-cleaned3-extraAug'\n",
    "data_folder = 'data'"
   ]
  },
  {
   "cell_type": "code",
   "execution_count": 18,
   "id": "narrow-animation",
   "metadata": {},
   "outputs": [],
   "source": [
    "os.getcwd()\n",
    "path = os.path.join(os.getcwd(), data_folder)"
   ]
  },
  {
   "cell_type": "code",
   "execution_count": 20,
   "id": "empirical-appeal",
   "metadata": {},
   "outputs": [],
   "source": [
    "def label_func(x): return x.parent.name"
   ]
  },
  {
   "cell_type": "code",
   "execution_count": 21,
   "id": "civilian-antigua",
   "metadata": {},
   "outputs": [],
   "source": [
    "learn_inf = load_learner(Path(path, 'exports' , model_name))"
   ]
  },
  {
   "cell_type": "code",
   "execution_count": 71,
   "id": "instructional-election",
   "metadata": {},
   "outputs": [
    {
     "data": {
      "application/vnd.jupyter.widget-view+json": {
       "model_id": "ddb9018cf8d443f183c4839eb6303c16",
       "version_major": 2,
       "version_minor": 0
      },
      "text/plain": [
       "FileUpload(value={}, description='Upload')"
      ]
     },
     "metadata": {},
     "output_type": "display_data"
    }
   ],
   "source": [
    "btn_upload = widgets.FileUpload()\n",
    "btn_upload"
   ]
  },
  {
   "cell_type": "code",
   "execution_count": 73,
   "id": "surface-state",
   "metadata": {},
   "outputs": [],
   "source": [
    "img = PILImage.create(btn_upload.data[-1])"
   ]
  },
  {
   "cell_type": "code",
   "execution_count": 74,
   "id": "owned-tomato",
   "metadata": {},
   "outputs": [
    {
     "data": {
      "application/vnd.jupyter.widget-view+json": {
       "model_id": "eb0e09644cb14a03b3a2a0c52a57bbf8",
       "version_major": 2,
       "version_minor": 0
      },
      "text/plain": [
       "Output()"
      ]
     },
     "metadata": {},
     "output_type": "display_data"
    }
   ],
   "source": [
    "out_pl = widgets.Output()\n",
    "out_pl.clear_output()\n",
    "with out_pl: display(img.to_thumb(128,128))\n",
    "out_pl"
   ]
  },
  {
   "cell_type": "code",
   "execution_count": 75,
   "id": "artistic-argentina",
   "metadata": {},
   "outputs": [
    {
     "data": {
      "text/html": [],
      "text/plain": [
       "<IPython.core.display.HTML object>"
      ]
     },
     "metadata": {},
     "output_type": "display_data"
    }
   ],
   "source": [
    "pred,pred_idx,probs = learn_inf.predict(img)"
   ]
  },
  {
   "cell_type": "code",
   "execution_count": 76,
   "id": "continental-jaguar",
   "metadata": {},
   "outputs": [
    {
     "data": {
      "application/vnd.jupyter.widget-view+json": {
       "model_id": "575d8fccbbee49a4bec17236ea70925c",
       "version_major": 2,
       "version_minor": 0
      },
      "text/plain": [
       "Label(value='Prediction: man face | 70.95%')"
      ]
     },
     "metadata": {},
     "output_type": "display_data"
    }
   ],
   "source": [
    "lbl_pred = widgets.Label()\n",
    "lbl_pred.value = 'Prediction: ' + pred + ' | ' + str(round(probs[pred_idx].numpy()*100,2)) + '%'\n",
    "lbl_pred"
   ]
  },
  {
   "cell_type": "code",
   "execution_count": 77,
   "id": "focused-mother",
   "metadata": {},
   "outputs": [
    {
     "data": {
      "application/vnd.jupyter.widget-view+json": {
       "model_id": "b1a478b3bae14b80b978f8fb11054f19",
       "version_major": 2,
       "version_minor": 0
      },
      "text/plain": [
       "Button(description='Classify', style=ButtonStyle())"
      ]
     },
     "metadata": {},
     "output_type": "display_data"
    }
   ],
   "source": [
    "btn_run = widgets.Button(description='Classify')\n",
    "btn_run"
   ]
  },
  {
   "cell_type": "code",
   "execution_count": 80,
   "id": "patient-nashville",
   "metadata": {},
   "outputs": [],
   "source": [
    "def on_click_classify(change):\n",
    "    img = PILImage.create(btn_upload.data[-1])\n",
    "    out_pl.clear_output()\n",
    "    with out_pl: display(img.to_thumb(128,128))\n",
    "    pred,pred_idx,probs = learn_inf.predict(img)\n",
    "    lbl_pred.value = 'Prediction: ' + pred + ' | ' + str(round(probs[pred_idx].numpy()*100,2)) + '%'\n",
    "\n",
    "btn_run.on_click(on_click_classify)"
   ]
  },
  {
   "cell_type": "code",
   "execution_count": 82,
   "id": "adapted-branch",
   "metadata": {},
   "outputs": [
    {
     "data": {
      "application/vnd.jupyter.widget-view+json": {
       "model_id": "fa9fe1e9ddbe4337b6839c270dbcda28",
       "version_major": 2,
       "version_minor": 0
      },
      "text/plain": [
       "VBox(children=(Label(value='Select photo'), FileUpload(value={'tato.jpeg': {'metadata': {'name': 'tato.jpeg', …"
      ]
     },
     "metadata": {},
     "output_type": "display_data"
    }
   ],
   "source": [
    "VBox([widgets.Label('Select photo'), btn_upload, btn_run, out_pl, lbl_pred])"
   ]
  },
  {
   "cell_type": "code",
   "execution_count": 83,
   "id": "quarterly-induction",
   "metadata": {},
   "outputs": [
    {
     "name": "stdout",
     "output_type": "stream",
     "text": [
      "Requirement already satisfied: voila in c:\\users\\slosa\\anaconda3\\envs\\flickrdatasets-new\\lib\\site-packages (0.2.7)\n",
      "Requirement already satisfied: nbconvert<7,>=6.0.0 in c:\\users\\slosa\\anaconda3\\envs\\flickrdatasets-new\\lib\\site-packages (from voila) (6.0.7)\n",
      "Requirement already satisfied: nbclient<0.6,>=0.4.0 in c:\\users\\slosa\\anaconda3\\envs\\flickrdatasets-new\\lib\\site-packages (from voila) (0.5.2)\n",
      "Requirement already satisfied: jupyter-client<7,>=6.1.3 in c:\\users\\slosa\\anaconda3\\envs\\flickrdatasets-new\\lib\\site-packages (from voila) (6.1.7)\n",
      "Requirement already satisfied: jupyter-server<2.0.0,>=0.3.0 in c:\\users\\slosa\\anaconda3\\envs\\flickrdatasets-new\\lib\\site-packages (from voila) (1.4.1)\n",
      "Requirement already satisfied: jinja2>=2.4 in c:\\users\\slosa\\anaconda3\\envs\\flickrdatasets-new\\lib\\site-packages (from nbconvert<7,>=6.0.0->voila) (2.11.3)\n",
      "Requirement already satisfied: entrypoints>=0.2.2 in c:\\users\\slosa\\anaconda3\\envs\\flickrdatasets-new\\lib\\site-packages (from nbconvert<7,>=6.0.0->voila) (0.3)\n",
      "Requirement already satisfied: mistune<2,>=0.8.1 in c:\\users\\slosa\\anaconda3\\envs\\flickrdatasets-new\\lib\\site-packages (from nbconvert<7,>=6.0.0->voila) (0.8.4)\n",
      "Requirement already satisfied: jupyter-core in c:\\users\\slosa\\anaconda3\\envs\\flickrdatasets-new\\lib\\site-packages (from nbconvert<7,>=6.0.0->voila) (4.7.1)\n",
      "Requirement already satisfied: jupyterlab-pygments in c:\\users\\slosa\\anaconda3\\envs\\flickrdatasets-new\\lib\\site-packages (from nbconvert<7,>=6.0.0->voila) (0.1.2)\n",
      "Requirement already satisfied: pygments>=2.4.1 in c:\\users\\slosa\\anaconda3\\envs\\flickrdatasets-new\\lib\\site-packages (from nbconvert<7,>=6.0.0->voila) (2.7.4)\n",
      "Requirement already satisfied: nbformat>=4.4 in c:\\users\\slosa\\anaconda3\\envs\\flickrdatasets-new\\lib\\site-packages (from nbconvert<7,>=6.0.0->voila) (5.1.2)\n",
      "Requirement already satisfied: testpath in c:\\users\\slosa\\anaconda3\\envs\\flickrdatasets-new\\lib\\site-packages (from nbconvert<7,>=6.0.0->voila) (0.4.4)\n",
      "Requirement already satisfied: defusedxml in c:\\users\\slosa\\anaconda3\\envs\\flickrdatasets-new\\lib\\site-packages (from nbconvert<7,>=6.0.0->voila) (0.6.0)\n",
      "Requirement already satisfied: pandocfilters>=1.4.1 in c:\\users\\slosa\\anaconda3\\envs\\flickrdatasets-new\\lib\\site-packages (from nbconvert<7,>=6.0.0->voila) (1.4.3)\n",
      "Requirement already satisfied: bleach in c:\\users\\slosa\\anaconda3\\envs\\flickrdatasets-new\\lib\\site-packages (from nbconvert<7,>=6.0.0->voila) (3.3.0)\n",
      "Requirement already satisfied: traitlets>=4.2 in c:\\users\\slosa\\anaconda3\\envs\\flickrdatasets-new\\lib\\site-packages (from nbconvert<7,>=6.0.0->voila) (5.0.5)\n",
      "Requirement already satisfied: async-generator in c:\\users\\slosa\\anaconda3\\envs\\flickrdatasets-new\\lib\\site-packages (from nbclient<0.6,>=0.4.0->voila) (1.10)\n",
      "Requirement already satisfied: nest-asyncio in c:\\users\\slosa\\anaconda3\\envs\\flickrdatasets-new\\lib\\site-packages (from nbclient<0.6,>=0.4.0->voila) (1.5.1)\n",
      "Requirement already satisfied: tornado>=4.1 in c:\\users\\slosa\\anaconda3\\envs\\flickrdatasets-new\\lib\\site-packages (from jupyter-client<7,>=6.1.3->voila) (6.1)\n",
      "Requirement already satisfied: pyzmq>=13 in c:\\users\\slosa\\anaconda3\\envs\\flickrdatasets-new\\lib\\site-packages (from jupyter-client<7,>=6.1.3->voila) (20.0.0)\n",
      "Requirement already satisfied: python-dateutil>=2.1 in c:\\users\\slosa\\anaconda3\\envs\\flickrdatasets-new\\lib\\site-packages (from jupyter-client<7,>=6.1.3->voila) (2.8.1)\n",
      "Requirement already satisfied: Send2Trash in c:\\users\\slosa\\anaconda3\\envs\\flickrdatasets-new\\lib\\site-packages (from jupyter-server<2.0.0,>=0.3.0->voila) (1.5.0)\n",
      "Requirement already satisfied: terminado>=0.8.3 in c:\\users\\slosa\\anaconda3\\envs\\flickrdatasets-new\\lib\\site-packages (from jupyter-server<2.0.0,>=0.3.0->voila) (0.9.2)\n",
      "Requirement already satisfied: pywin32>=1.0; sys_platform == \"win32\" in c:\\users\\slosa\\anaconda3\\envs\\flickrdatasets-new\\lib\\site-packages (from jupyter-server<2.0.0,>=0.3.0->voila) (227)\n",
      "Requirement already satisfied: ipython-genutils in c:\\users\\slosa\\anaconda3\\envs\\flickrdatasets-new\\lib\\site-packages (from jupyter-server<2.0.0,>=0.3.0->voila) (0.2.0)\n",
      "Requirement already satisfied: anyio>=2.0.2 in c:\\users\\slosa\\anaconda3\\envs\\flickrdatasets-new\\lib\\site-packages (from jupyter-server<2.0.0,>=0.3.0->voila) (2.1.0)\n",
      "Requirement already satisfied: prometheus-client in c:\\users\\slosa\\anaconda3\\envs\\flickrdatasets-new\\lib\\site-packages (from jupyter-server<2.0.0,>=0.3.0->voila) (0.9.0)\n",
      "Requirement already satisfied: MarkupSafe>=0.23 in c:\\users\\slosa\\anaconda3\\envs\\flickrdatasets-new\\lib\\site-packages (from jinja2>=2.4->nbconvert<7,>=6.0.0->voila) (1.1.1)\n",
      "Requirement already satisfied: jsonschema!=2.5.0,>=2.4 in c:\\users\\slosa\\anaconda3\\envs\\flickrdatasets-new\\lib\\site-packages (from nbformat>=4.4->nbconvert<7,>=6.0.0->voila) (3.2.0)\n",
      "Requirement already satisfied: webencodings in c:\\users\\slosa\\anaconda3\\envs\\flickrdatasets-new\\lib\\site-packages (from bleach->nbconvert<7,>=6.0.0->voila) (0.5.1)\n",
      "Requirement already satisfied: packaging in c:\\users\\slosa\\anaconda3\\envs\\flickrdatasets-new\\lib\\site-packages (from bleach->nbconvert<7,>=6.0.0->voila) (20.9)\n",
      "Requirement already satisfied: six>=1.9.0 in c:\\users\\slosa\\anaconda3\\envs\\flickrdatasets-new\\lib\\site-packages (from bleach->nbconvert<7,>=6.0.0->voila) (1.15.0)\n",
      "Requirement already satisfied: pywinpty>=0.5 in c:\\users\\slosa\\anaconda3\\envs\\flickrdatasets-new\\lib\\site-packages (from terminado>=0.8.3->jupyter-server<2.0.0,>=0.3.0->voila) (0.5.7)\n",
      "Requirement already satisfied: idna>=2.8 in c:\\users\\slosa\\anaconda3\\envs\\flickrdatasets-new\\lib\\site-packages (from anyio>=2.0.2->jupyter-server<2.0.0,>=0.3.0->voila) (2.10)\n",
      "Requirement already satisfied: sniffio>=1.1 in c:\\users\\slosa\\anaconda3\\envs\\flickrdatasets-new\\lib\\site-packages (from anyio>=2.0.2->jupyter-server<2.0.0,>=0.3.0->voila) (1.2.0)\n",
      "Requirement already satisfied: typing-extensions; python_version < \"3.8\" in c:\\users\\slosa\\anaconda3\\envs\\flickrdatasets-new\\lib\\site-packages (from anyio>=2.0.2->jupyter-server<2.0.0,>=0.3.0->voila) (3.7.4.3)\n",
      "Requirement already satisfied: attrs>=17.4.0 in c:\\users\\slosa\\anaconda3\\envs\\flickrdatasets-new\\lib\\site-packages (from jsonschema!=2.5.0,>=2.4->nbformat>=4.4->nbconvert<7,>=6.0.0->voila) (20.3.0)\n",
      "Requirement already satisfied: setuptools in c:\\users\\slosa\\anaconda3\\envs\\flickrdatasets-new\\lib\\site-packages (from jsonschema!=2.5.0,>=2.4->nbformat>=4.4->nbconvert<7,>=6.0.0->voila) (47.1.1.post20200604)\n",
      "Requirement already satisfied: pyrsistent>=0.14.0 in c:\\users\\slosa\\anaconda3\\envs\\flickrdatasets-new\\lib\\site-packages (from jsonschema!=2.5.0,>=2.4->nbformat>=4.4->nbconvert<7,>=6.0.0->voila) (0.17.3)\n",
      "Requirement already satisfied: importlib-metadata; python_version < \"3.8\" in c:\\users\\slosa\\anaconda3\\envs\\flickrdatasets-new\\lib\\site-packages (from jsonschema!=2.5.0,>=2.4->nbformat>=4.4->nbconvert<7,>=6.0.0->voila) (3.4.0)\n",
      "Requirement already satisfied: pyparsing>=2.0.2 in c:\\users\\slosa\\anaconda3\\envs\\flickrdatasets-new\\lib\\site-packages (from packaging->bleach->nbconvert<7,>=6.0.0->voila) (2.4.7)\n",
      "Requirement already satisfied: zipp>=0.5 in c:\\users\\slosa\\anaconda3\\envs\\flickrdatasets-new\\lib\\site-packages (from importlib-metadata; python_version < \"3.8\"->jsonschema!=2.5.0,>=2.4->nbformat>=4.4->nbconvert<7,>=6.0.0->voila) (3.4.0)\n"
     ]
    },
    {
     "name": "stderr",
     "output_type": "stream",
     "text": [
      "Enabling: voila\n",
      "- Writing config: C:\\Users\\slosa\\anaconda3\\envs\\flickrdatasets-new\\etc\\jupyter\n",
      "    - Validating...\n",
      "      voila 0.2.7 ok\n"
     ]
    }
   ],
   "source": [
    "!pip install voila\n",
    "!jupyter serverextension enable voila --sys-prefix"
   ]
  },
  {
   "cell_type": "code",
   "execution_count": null,
   "id": "opposite-soldier",
   "metadata": {},
   "outputs": [],
   "source": []
  }
 ],
 "metadata": {
  "kernelspec": {
   "display_name": "Python 3",
   "language": "python",
   "name": "python3"
  },
  "language_info": {
   "codemirror_mode": {
    "name": "ipython",
    "version": 3
   },
   "file_extension": ".py",
   "mimetype": "text/x-python",
   "name": "python",
   "nbconvert_exporter": "python",
   "pygments_lexer": "ipython3",
   "version": "3.7.7"
  }
 },
 "nbformat": 4,
 "nbformat_minor": 5
}
