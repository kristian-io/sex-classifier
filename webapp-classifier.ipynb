{
 "cells": [
  {
   "cell_type": "code",
   "execution_count": 1,
   "id": "breathing-advocacy",
   "metadata": {},
   "outputs": [],
   "source": [
    "from fastai.vision.all import *\n",
    "from ipywidgets import *\n",
    "from PIL import Image"
   ]
  },
  {
   "cell_type": "code",
   "execution_count": 2,
   "id": "shared-valve",
   "metadata": {},
   "outputs": [],
   "source": [
    "model_name = 'woman-man_resnet18_5000-extended-cleaned3-extraAug'\n",
    "data_folder = 'data'"
   ]
  },
  {
   "cell_type": "code",
   "execution_count": 3,
   "id": "narrow-animation",
   "metadata": {},
   "outputs": [],
   "source": [
    "os.getcwd()\n",
    "path = os.path.join(os.getcwd(), data_folder)"
   ]
  },
  {
   "cell_type": "code",
   "execution_count": 4,
   "id": "empirical-appeal",
   "metadata": {},
   "outputs": [],
   "source": [
    "def label_func(x): return x.parent.name"
   ]
  },
  {
   "cell_type": "code",
   "execution_count": 5,
   "id": "latter-extreme",
   "metadata": {},
   "outputs": [],
   "source": [
    "path = Path('C:\\\\Users\\\\slosa\\\\Documents\\\\flickrdatasets\\\\data')"
   ]
  },
  {
   "cell_type": "code",
   "execution_count": 6,
   "id": "civilian-antigua",
   "metadata": {},
   "outputs": [],
   "source": [
    "learn_inf = load_learner(Path( path, 'exports' , model_name))"
   ]
  },
  {
   "cell_type": "code",
   "execution_count": 7,
   "id": "instructional-election",
   "metadata": {},
   "outputs": [],
   "source": [
    "btn_upload = widgets.FileUpload()\n",
    "# btn_upload"
   ]
  },
  {
   "cell_type": "code",
   "execution_count": 8,
   "id": "surface-state",
   "metadata": {},
   "outputs": [],
   "source": [
    "img = Image.new('RGB', (100, 100))"
   ]
  },
  {
   "cell_type": "code",
   "execution_count": 9,
   "id": "owned-tomato",
   "metadata": {},
   "outputs": [],
   "source": [
    "out_pl = widgets.Output()\n",
    "out_pl.clear_output()\n",
    "with out_pl: display(img.to_thumb(128,128))\n",
    "# out_pl"
   ]
  },
  {
   "cell_type": "code",
   "execution_count": 10,
   "id": "artistic-argentina",
   "metadata": {},
   "outputs": [],
   "source": [
    "# pred,pred_idx,probs = learn_inf.predict(img)"
   ]
  },
  {
   "cell_type": "code",
   "execution_count": 11,
   "id": "continental-jaguar",
   "metadata": {},
   "outputs": [],
   "source": [
    "lbl_pred = widgets.Label()\n",
    "# lbl_pred.value = 'Prediction: ' + pred + ' | ' + str(round(probs[pred_idx].numpy()*100,2)) + '%'\n",
    "# lbl_pred"
   ]
  },
  {
   "cell_type": "code",
   "execution_count": 12,
   "id": "focused-mother",
   "metadata": {},
   "outputs": [],
   "source": [
    "btn_run = widgets.Button(description='Classify')\n",
    "# btn_run"
   ]
  },
  {
   "cell_type": "code",
   "execution_count": 13,
   "id": "patient-nashville",
   "metadata": {},
   "outputs": [],
   "source": [
    "def on_click_classify(change):\n",
    "    img = PILImage.create(btn_upload.data[-1])\n",
    "    out_pl.clear_output()\n",
    "    with out_pl: display(img.to_thumb(128,128))\n",
    "    pred,pred_idx,probs = learn_inf.predict(img)\n",
    "    lbl_pred.value = 'Prediction: ' + pred + ' | ' + str(round(probs[pred_idx].numpy()*100,2)) + '%'\n",
    "\n",
    "btn_run.on_click(on_click_classify)"
   ]
  },
  {
   "cell_type": "code",
   "execution_count": 14,
   "id": "adapted-branch",
   "metadata": {},
   "outputs": [
    {
     "data": {
      "application/vnd.jupyter.widget-view+json": {
       "model_id": "54c71c8b612e4394a9123bc9a39b2d94",
       "version_major": 2,
       "version_minor": 0
      },
      "text/plain": [
       "VBox(children=(Label(value='Select photo'), FileUpload(value={}, description='Upload'), Button(description='Cl…"
      ]
     },
     "metadata": {},
     "output_type": "display_data"
    }
   ],
   "source": [
    "VBox([widgets.Label('Select photo'), btn_upload, btn_run, out_pl, lbl_pred])"
   ]
  },
  {
   "cell_type": "code",
   "execution_count": null,
   "id": "quarterly-induction",
   "metadata": {},
   "outputs": [],
   "source": [
    "# !pip install voila\n",
    "# !jupyter serverextension enable voila --sys-prefix"
   ]
  },
  {
   "cell_type": "code",
   "execution_count": null,
   "id": "opposite-soldier",
   "metadata": {},
   "outputs": [],
   "source": []
  }
 ],
 "metadata": {
  "kernelspec": {
   "display_name": "Python 3",
   "language": "python",
   "name": "python3"
  },
  "language_info": {
   "codemirror_mode": {
    "name": "ipython",
    "version": 3
   },
   "file_extension": ".py",
   "mimetype": "text/x-python",
   "name": "python",
   "nbconvert_exporter": "python",
   "pygments_lexer": "ipython3",
   "version": "3.7.7"
  }
 },
 "nbformat": 4,
 "nbformat_minor": 5
}
